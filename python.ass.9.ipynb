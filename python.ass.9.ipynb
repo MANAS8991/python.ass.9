{
 "cells": [
  {
   "cell_type": "markdown",
   "id": "5b4e1b97",
   "metadata": {},
   "source": [
    "# 1. To what does a relative path refer?"
   ]
  },
  {
   "cell_type": "code",
   "execution_count": null,
   "id": "fbe318de",
   "metadata": {},
   "outputs": [],
   "source": [
    "A relative path refers to the location of a file or directory relative to the current working directory or another specified directory. It specifies the path starting from the current location rather than from the root directory.\n",
    "\n",
    "The current working directory is the directory from which a script or program is being executed. A relative path allows you to navigate and locate files or directories based on their position relative to the current working directory or another reference point.\n",
    "\n",
    "For example, if the current working directory is /home/user, a relative path such as documents/file.txt would refer to the file file.txt located in the documents directory within the current working directory.\n",
    "\n",
    "Relative paths are often used when referring to files or directories within the same project or directory structure, making it easier to move or share the project without having to change absolute file paths that depend on the system's file structure."
   ]
  },
  {
   "cell_type": "markdown",
   "id": "3fd0d83b",
   "metadata": {},
   "source": [
    "# 2. What does an absolute path start with your operating system?"
   ]
  },
  {
   "cell_type": "code",
   "execution_count": null,
   "id": "0711b366",
   "metadata": {},
   "outputs": [],
   "source": [
    "In most operating systems, an absolute path starts with the root directory. The root directory is the highest-level directory in the file system hierarchy and serves as the starting point for navigating the entire file system.\n",
    "\n",
    "The notation for the root directory varies depending on the operating system:\n",
    "\n",
    "On Unix-based systems (e.g., Linux, macOS), the root directory is denoted by a forward slash (/). For example: /home/user/documents/file.txt.\n",
    "\n",
    "On Windows systems, the root directory of the current drive is typically denoted by a drive letter followed by a colon (:), such as C: for the C drive. The backslash () is used as the path separator. For example: C:\\Users\\User\\Documents\\file.txt.\n",
    "\n",
    "An absolute path provides the complete and exact location of a file or directory in the file system, starting from the root directory. It specifies the entire path hierarchy necessary to reach the desired file or directory, regardless of the current working directory.\n"
   ]
  },
  {
   "cell_type": "markdown",
   "id": "02881bd9",
   "metadata": {},
   "source": [
    "# 3. What do the functions os.getcwd() and os.chdir() do?\n"
   ]
  },
  {
   "cell_type": "code",
   "execution_count": null,
   "id": "bc823ae6",
   "metadata": {},
   "outputs": [],
   "source": [
    "The functions os.getcwd() and os.chdir() are part of the os module in Python and are used for working with file directories.\n",
    "\n",
    "os.getcwd(): This function returns the current working directory (CWD) as a string. The current working directory is the directory from which the Python script is being executed. It represents the current location or path in the file system. When you call os.getcwd(), it returns the absolute path of the current working directory.\n",
    "\n",
    "Example usage:\n",
    "import os\n",
    "\n",
    "current_directory = os.getcwd()\n",
    "print(current_directory)\n",
    "Output:\n",
    "/home/user/myproject\n",
    "\n",
    "os.chdir(path): This function is used to change the current working directory to the specified path. It takes a string argument path, which can be either an absolute path or a relative path. If the path is valid and accessible, os.chdir() will update the current working directory to the specified path.\n",
    "\n",
    "Example usage:\n",
    "import os\n",
    "\n",
    "os.chdir('/home/user/myproject')\n",
    "\n",
    "After calling os.chdir(), the current working directory will be changed to /home/user/myproject."
   ]
  },
  {
   "cell_type": "markdown",
   "id": "ace71bf0",
   "metadata": {},
   "source": [
    "# 4. What are the . and .. folders?"
   ]
  },
  {
   "cell_type": "code",
   "execution_count": null,
   "id": "de23b31a",
   "metadata": {},
   "outputs": [],
   "source": [
    "In file systems, the . (dot) and .. (dot dot) folders are special entries that represent the current directory and the parent directory, respectively.\n",
    "\n",
    ". (dot):\n",
    "\n",
    "The . folder refers to the current directory itself. It is used to represent the current location or path in the file system.\n",
    "For example, if you are currently in the directory /home/user/documents, the . folder refers to /home/user/documents.\n",
    ".. (dot dot):\n",
    "\n",
    "The .. folder refers to the parent directory of the current directory. It allows you to access and navigate to the directory one level up in the file system hierarchy.\n",
    "For example, if you are currently in the directory /home/user/documents, the .. folder refers to /home/user.\n",
    "These special folders are commonly used in file system operations to navigate and reference directories relative to the current location. They provide a convenient way to specify paths and access files or directories in relation to other locations in the file system."
   ]
  },
  {
   "cell_type": "markdown",
   "id": "f5ab64ce",
   "metadata": {},
   "source": [
    "# 5. In C:\\bacon\\eggs\\spam.txt, which part is the dir name, and which part is the base name?"
   ]
  },
  {
   "cell_type": "raw",
   "id": "ad8b4af7",
   "metadata": {},
   "source": [
    "In the path \"C:\\bacon\\eggs\\spam.txt\":\n",
    "\n",
    "The directory name (dir name) is \"C:\\bacon\\eggs\". It represents the path of the directory containing the file or the parent directory of the file.\n",
    "The base name is \"spam.txt\". It refers to the actual name of the file itself, without including the directory path.\n",
    "To break it down further:\n",
    "\n",
    "\"C:\" is the root directory on the C drive (assuming Windows OS).\n",
    "\"bacon\" is a directory within the C drive.\n",
    "\"eggs\" is a subdirectory within the \"bacon\" directory.\n",
    "\"spam.txt\" is the file name with the extension \".txt\" located within the \"eggs\" directory.\n",
    "So, the dir name is \"C:\\bacon\\eggs\" and the base name is \"spam.txt\"."
   ]
  },
  {
   "cell_type": "markdown",
   "id": "4ad20253",
   "metadata": {},
   "source": [
    "# 6. What are the three “mode” arguments that can be passed to the open() function?"
   ]
  },
  {
   "cell_type": "code",
   "execution_count": null,
   "id": "29aefa85",
   "metadata": {},
   "outputs": [],
   "source": [
    "The three \"mode\" arguments that can be passed to the open() function in Python are:\n",
    "\n",
    "1- 'r' (Read Mode):\n",
    "\n",
    "This mode is used for reading files. It is the default mode if no mode is specified.\n",
    "The file is opened in read-only mode, and attempting to write to the file will result in an error.\n",
    "Example: open('filename.txt', 'r')\n",
    "\n",
    "2- 'w' (Write Mode):\n",
    "\n",
    "This mode is used for writing to files. If the file exists, it is truncated (cleared) before writing.\n",
    "If the file does not exist, a new file is created.\n",
    "Example: open('filename.txt', 'w')\n",
    "\n",
    "3- 'a' (Append Mode):\n",
    "\n",
    "This mode is used for appending data to an existing file. If the file does not exist, a new file is created.\n",
    "The data is added to the end of the file without truncating the existing content.\n",
    "Example: open('filename.txt', 'a')\n",
    "These modes can be further extended with additional characters:\n",
    "\n",
    "Adding 'b' to any mode ('rb', 'wb', 'ab') opens the file in binary mode.\n",
    "Adding '+' to any mode ('r+', 'w+', 'a+') allows both reading and writing operations on the file.\n",
    "Examples:\n",
    "\n",
    "Read mode with binary: open('filename.txt', 'rb')\n",
    "Read and write mode: open('filename.txt', 'r+')"
   ]
  },
  {
   "cell_type": "markdown",
   "id": "bad03524",
   "metadata": {},
   "source": [
    "# 7. What happens if an existing file is opened in write mode?"
   ]
  },
  {
   "cell_type": "code",
   "execution_count": null,
   "id": "bcb6db99",
   "metadata": {},
   "outputs": [],
   "source": [
    "If an existing file is opened in write mode ('w'), the following will happen:\n",
    "\n",
    "1- If the file exists:\n",
    "\n",
    "The file will be truncated, which means that all existing content will be removed and the file will become empty.\n",
    "The file pointer will be positioned at the beginning of the file.\n",
    "If you write data to the file using write() or related functions, the new data will overwrite the previous content.\n",
    "If you read from the file using read() or related functions, it will return an empty string since there is no content.\n",
    "\n",
    "2- If the file does not exist:\n",
    "\n",
    "A new file with the specified name will be created.\n",
    "The file will be opened in write mode, and you can start writing data to it.\n",
    "It's important to be cautious when opening a file in write mode since it can lead to the loss of existing data if you're not careful. If you want to append data to an existing file without truncating it, you should use the append mode ('a') instead.\n"
   ]
  },
  {
   "cell_type": "markdown",
   "id": "9d333634",
   "metadata": {},
   "source": [
    "# 8. How do you tell the difference between read() and readlines()?"
   ]
  },
  {
   "cell_type": "raw",
   "id": "f4fbda0d",
   "metadata": {},
   "source": [
    "The read() and readlines() methods are used to read data from a file, but they differ in how they retrieve and return the data:\n",
    "\n",
    "read(): This method reads the entire contents of a file as a single string. When you call read() without any arguments, it reads the entire file. If the file is large, loading it all into memory as a single string can be inefficient. However, if you're working with a small file or you need the entire content at once, read() can be useful. It returns a single string containing the file's content.\n",
    "\n",
    "readlines(): This method reads the contents of a file line by line and returns a list where each element represents a line of the file. It reads until the end of the file is reached and returns a list of strings, where each string is a line from the file. The newline character ('\\n') is included in each line string. readlines() is convenient when you want to process the file line by line or when you want to store the lines in a list for further manipulation.\n",
    "\n",
    "In summary, read() returns a single string with the entire file content, while readlines() returns a list of strings where each string represents a line from the file. The choice between them depends on your specific use case and how you want to handle the file's content.\n"
   ]
  },
  {
   "cell_type": "markdown",
   "id": "263fc99b",
   "metadata": {},
   "source": [
    "# 9. What data structure does a shelf value resemble?"
   ]
  },
  {
   "cell_type": "raw",
   "id": "4868edad",
   "metadata": {},
   "source": [
    "A shelf value in Python resembles a dictionary data structure. It is provided by the shelve module, which allows you to store and retrieve Python objects in a persistent dictionary-like format.\n",
    "\n",
    "Similar to a dictionary, a shelf value can store key-value pairs where the keys are strings and the values can be any picklable Python object. You can assign values to keys and retrieve values by using the key as the index.\n",
    "\n",
    "The shelve module provides methods such as open(), close(), keys(), values(), and items() that are similar to the corresponding dictionary methods. It also supports features like automatic serialization and deserialization of objects using the pickle module.\n",
    "\n",
    "However, unlike an in-memory dictionary, a shelf value is persistent, meaning it is stored on disk and can be accessed even after the program terminates. It is a convenient way to store and retrieve data between program runs or share data between different programs.\n",
    "\n",
    "In summary, a shelf value resembles a dictionary in its usage and structure, but it offers persistence by storing the data on disk."
   ]
  }
 ],
 "metadata": {
  "kernelspec": {
   "display_name": "Python 3 (ipykernel)",
   "language": "python",
   "name": "python3"
  },
  "language_info": {
   "codemirror_mode": {
    "name": "ipython",
    "version": 3
   },
   "file_extension": ".py",
   "mimetype": "text/x-python",
   "name": "python",
   "nbconvert_exporter": "python",
   "pygments_lexer": "ipython3",
   "version": "3.9.12"
  }
 },
 "nbformat": 4,
 "nbformat_minor": 5
}
